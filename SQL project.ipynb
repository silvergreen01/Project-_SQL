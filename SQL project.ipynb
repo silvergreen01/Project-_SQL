{
 "cells": [
  {
   "cell_type": "code",
   "execution_count": 14,
   "id": "92c17e5e",
   "metadata": {},
   "outputs": [],
   "source": [
    "# import libraries\n",
    "import pandas as pd\n",
    "from sqlalchemy import create_engine"
   ]
  },
  {
   "cell_type": "code",
   "execution_count": 15,
   "id": "8f45d1d6",
   "metadata": {},
   "outputs": [],
   "source": [
    "db_config = {'user': 'practicum_student',         # username\n",
    "             'pwd': 's65BlTKV3faNIGhmvJVzOqhs', # password\n",
    "             'host': 'rc1b-wcoijxj3yxfsf3fs.mdb.yandexcloud.net',\n",
    "             'port': 6432,              # connection port\n",
    "             'db': 'data-analyst-final-project-db'}          # the name of the database\n",
    "\n",
    "connection_string = 'postgresql://{}:{}@{}:{}/{}'.format(db_config['user'],\n",
    "                                                                     db_config['pwd'],\n",
    "                                                                       db_config['host'],\n",
    "                                                                       db_config['port'],\n",
    "                                                                       db_config['db'])\n",
    "\n",
    "engine = create_engine(connection_string, connect_args={'sslmode':'require'})"
   ]
  },
  {
   "cell_type": "code",
   "execution_count": 16,
   "id": "60b4ec09",
   "metadata": {},
   "outputs": [],
   "source": [
    "# defining a function for executing the queries\n",
    "def execute(table):\n",
    "    return pd.io.sql.read_sql(table, con = engine)"
   ]
  },
  {
   "cell_type": "code",
   "execution_count": 17,
   "id": "5e82c7c8",
   "metadata": {},
   "outputs": [
    {
     "data": {
      "text/html": [
       "<div>\n",
       "<style scoped>\n",
       "    .dataframe tbody tr th:only-of-type {\n",
       "        vertical-align: middle;\n",
       "    }\n",
       "\n",
       "    .dataframe tbody tr th {\n",
       "        vertical-align: top;\n",
       "    }\n",
       "\n",
       "    .dataframe thead th {\n",
       "        text-align: right;\n",
       "    }\n",
       "</style>\n",
       "<table border=\"1\" class=\"dataframe\">\n",
       "  <thead>\n",
       "    <tr style=\"text-align: right;\">\n",
       "      <th></th>\n",
       "      <th>book_id</th>\n",
       "      <th>author_id</th>\n",
       "      <th>title</th>\n",
       "      <th>num_pages</th>\n",
       "      <th>publication_date</th>\n",
       "      <th>publisher_id</th>\n",
       "    </tr>\n",
       "  </thead>\n",
       "  <tbody>\n",
       "    <tr>\n",
       "      <th>0</th>\n",
       "      <td>298</td>\n",
       "      <td>236</td>\n",
       "      <td>Harry Potter Boxed Set  Books 1-5 (Harry Potte...</td>\n",
       "      <td>2690</td>\n",
       "      <td>2004-09-13</td>\n",
       "      <td>253</td>\n",
       "    </tr>\n",
       "    <tr>\n",
       "      <th>1</th>\n",
       "      <td>684</td>\n",
       "      <td>354</td>\n",
       "      <td>The Complete Anne of Green Gables Boxed Set (A...</td>\n",
       "      <td>2088</td>\n",
       "      <td>1998-10-06</td>\n",
       "      <td>285</td>\n",
       "    </tr>\n",
       "    <tr>\n",
       "      <th>2</th>\n",
       "      <td>361</td>\n",
       "      <td>240</td>\n",
       "      <td>J.R.R. Tolkien 4-Book Boxed Set: The Hobbit an...</td>\n",
       "      <td>1728</td>\n",
       "      <td>2012-09-25</td>\n",
       "      <td>33</td>\n",
       "    </tr>\n",
       "    <tr>\n",
       "      <th>3</th>\n",
       "      <td>760</td>\n",
       "      <td>224</td>\n",
       "      <td>The Iliad/The Odyssey</td>\n",
       "      <td>1556</td>\n",
       "      <td>1999-11-01</td>\n",
       "      <td>217</td>\n",
       "    </tr>\n",
       "    <tr>\n",
       "      <th>4</th>\n",
       "      <td>685</td>\n",
       "      <td>57</td>\n",
       "      <td>The Complete Calvin and Hobbes</td>\n",
       "      <td>1456</td>\n",
       "      <td>2005-09-06</td>\n",
       "      <td>18</td>\n",
       "    </tr>\n",
       "  </tbody>\n",
       "</table>\n",
       "</div>"
      ],
      "text/plain": [
       "   book_id  author_id                                              title  \\\n",
       "0      298        236  Harry Potter Boxed Set  Books 1-5 (Harry Potte...   \n",
       "1      684        354  The Complete Anne of Green Gables Boxed Set (A...   \n",
       "2      361        240  J.R.R. Tolkien 4-Book Boxed Set: The Hobbit an...   \n",
       "3      760        224                              The Iliad/The Odyssey   \n",
       "4      685         57                     The Complete Calvin and Hobbes   \n",
       "\n",
       "   num_pages publication_date  publisher_id  \n",
       "0       2690       2004-09-13           253  \n",
       "1       2088       1998-10-06           285  \n",
       "2       1728       2012-09-25            33  \n",
       "3       1556       1999-11-01           217  \n",
       "4       1456       2005-09-06            18  "
      ]
     },
     "execution_count": 17,
     "metadata": {},
     "output_type": "execute_result"
    }
   ],
   "source": [
    "query = \"\"\"SELECT * \n",
    "                    FROM books \n",
    "                    ORDER BY num_pages desc\"\"\"\n",
    "df_books=execute(query)\n",
    "df_books.head()"
   ]
  },
  {
   "cell_type": "code",
   "execution_count": 18,
   "id": "dbdcc37f",
   "metadata": {},
   "outputs": [
    {
     "data": {
      "text/html": [
       "<div>\n",
       "<style scoped>\n",
       "    .dataframe tbody tr th:only-of-type {\n",
       "        vertical-align: middle;\n",
       "    }\n",
       "\n",
       "    .dataframe tbody tr th {\n",
       "        vertical-align: top;\n",
       "    }\n",
       "\n",
       "    .dataframe thead th {\n",
       "        text-align: right;\n",
       "    }\n",
       "</style>\n",
       "<table border=\"1\" class=\"dataframe\">\n",
       "  <thead>\n",
       "    <tr style=\"text-align: right;\">\n",
       "      <th></th>\n",
       "      <th>author_id</th>\n",
       "      <th>author</th>\n",
       "    </tr>\n",
       "  </thead>\n",
       "  <tbody>\n",
       "    <tr>\n",
       "      <th>0</th>\n",
       "      <td>636</td>\n",
       "      <td>Åsne Seierstad/Ingrid Christopherson</td>\n",
       "    </tr>\n",
       "    <tr>\n",
       "      <th>1</th>\n",
       "      <td>635</td>\n",
       "      <td>Zora Neale Hurston</td>\n",
       "    </tr>\n",
       "    <tr>\n",
       "      <th>2</th>\n",
       "      <td>634</td>\n",
       "      <td>Zilpha Keatley Snyder</td>\n",
       "    </tr>\n",
       "    <tr>\n",
       "      <th>3</th>\n",
       "      <td>633</td>\n",
       "      <td>Zadie Smith</td>\n",
       "    </tr>\n",
       "    <tr>\n",
       "      <th>4</th>\n",
       "      <td>632</td>\n",
       "      <td>William Strunk Jr./E.B. White</td>\n",
       "    </tr>\n",
       "  </tbody>\n",
       "</table>\n",
       "</div>"
      ],
      "text/plain": [
       "   author_id                                author\n",
       "0        636  Åsne Seierstad/Ingrid Christopherson\n",
       "1        635                    Zora Neale Hurston\n",
       "2        634                 Zilpha Keatley Snyder\n",
       "3        633                           Zadie Smith\n",
       "4        632         William Strunk Jr./E.B. White"
      ]
     },
     "execution_count": 18,
     "metadata": {},
     "output_type": "execute_result"
    }
   ],
   "source": [
    "query =\"\"\"SELECT * \n",
    "                    FROM authors \n",
    "                    ORDER BY author_id desc\"\"\"\n",
    "df_authors=execute(query)\n",
    "df_authors.head()"
   ]
  },
  {
   "cell_type": "code",
   "execution_count": 19,
   "id": "6cfc9e8c",
   "metadata": {},
   "outputs": [
    {
     "data": {
      "text/html": [
       "<div>\n",
       "<style scoped>\n",
       "    .dataframe tbody tr th:only-of-type {\n",
       "        vertical-align: middle;\n",
       "    }\n",
       "\n",
       "    .dataframe tbody tr th {\n",
       "        vertical-align: top;\n",
       "    }\n",
       "\n",
       "    .dataframe thead th {\n",
       "        text-align: right;\n",
       "    }\n",
       "</style>\n",
       "<table border=\"1\" class=\"dataframe\">\n",
       "  <thead>\n",
       "    <tr style=\"text-align: right;\">\n",
       "      <th></th>\n",
       "      <th>publisher_id</th>\n",
       "      <th>publisher</th>\n",
       "    </tr>\n",
       "  </thead>\n",
       "  <tbody>\n",
       "    <tr>\n",
       "      <th>0</th>\n",
       "      <td>340</td>\n",
       "      <td>Yearling Books</td>\n",
       "    </tr>\n",
       "    <tr>\n",
       "      <th>1</th>\n",
       "      <td>339</td>\n",
       "      <td>Yearling</td>\n",
       "    </tr>\n",
       "    <tr>\n",
       "      <th>2</th>\n",
       "      <td>338</td>\n",
       "      <td>Yale University Press</td>\n",
       "    </tr>\n",
       "    <tr>\n",
       "      <th>3</th>\n",
       "      <td>337</td>\n",
       "      <td>Wyatt Book</td>\n",
       "    </tr>\n",
       "    <tr>\n",
       "      <th>4</th>\n",
       "      <td>336</td>\n",
       "      <td>Workman Publishing Company</td>\n",
       "    </tr>\n",
       "  </tbody>\n",
       "</table>\n",
       "</div>"
      ],
      "text/plain": [
       "   publisher_id                   publisher\n",
       "0           340              Yearling Books\n",
       "1           339                    Yearling\n",
       "2           338       Yale University Press\n",
       "3           337                  Wyatt Book\n",
       "4           336  Workman Publishing Company"
      ]
     },
     "execution_count": 19,
     "metadata": {},
     "output_type": "execute_result"
    }
   ],
   "source": [
    "query =\"\"\"SELECT * \n",
    "                    FROM publishers \n",
    "                    ORDER BY publisher_id desc\"\"\"\n",
    "df_publishers=execute(query)\n",
    "df_publishers.head()"
   ]
  },
  {
   "cell_type": "code",
   "execution_count": 20,
   "id": "5baf3d7c",
   "metadata": {},
   "outputs": [
    {
     "data": {
      "text/html": [
       "<div>\n",
       "<style scoped>\n",
       "    .dataframe tbody tr th:only-of-type {\n",
       "        vertical-align: middle;\n",
       "    }\n",
       "\n",
       "    .dataframe tbody tr th {\n",
       "        vertical-align: top;\n",
       "    }\n",
       "\n",
       "    .dataframe thead th {\n",
       "        text-align: right;\n",
       "    }\n",
       "</style>\n",
       "<table border=\"1\" class=\"dataframe\">\n",
       "  <thead>\n",
       "    <tr style=\"text-align: right;\">\n",
       "      <th></th>\n",
       "      <th>review_id</th>\n",
       "      <th>book_id</th>\n",
       "      <th>username</th>\n",
       "      <th>text</th>\n",
       "    </tr>\n",
       "  </thead>\n",
       "  <tbody>\n",
       "    <tr>\n",
       "      <th>0</th>\n",
       "      <td>2793</td>\n",
       "      <td>1000</td>\n",
       "      <td>jarvispaul</td>\n",
       "      <td>Republican staff bit eat material measure plan...</td>\n",
       "    </tr>\n",
       "    <tr>\n",
       "      <th>1</th>\n",
       "      <td>2792</td>\n",
       "      <td>1000</td>\n",
       "      <td>wendy18</td>\n",
       "      <td>Or western offer wonder ask. More hear phone f...</td>\n",
       "    </tr>\n",
       "    <tr>\n",
       "      <th>2</th>\n",
       "      <td>2791</td>\n",
       "      <td>1000</td>\n",
       "      <td>carolrodriguez</td>\n",
       "      <td>Authority go who television entire hair guy po...</td>\n",
       "    </tr>\n",
       "    <tr>\n",
       "      <th>3</th>\n",
       "      <td>2790</td>\n",
       "      <td>1000</td>\n",
       "      <td>wknight</td>\n",
       "      <td>Change lose answer close pressure. Spend so now.</td>\n",
       "    </tr>\n",
       "    <tr>\n",
       "      <th>4</th>\n",
       "      <td>2789</td>\n",
       "      <td>999</td>\n",
       "      <td>martinadam</td>\n",
       "      <td>Later hospital turn easy community. Fact same ...</td>\n",
       "    </tr>\n",
       "  </tbody>\n",
       "</table>\n",
       "</div>"
      ],
      "text/plain": [
       "   review_id  book_id        username  \\\n",
       "0       2793     1000      jarvispaul   \n",
       "1       2792     1000         wendy18   \n",
       "2       2791     1000  carolrodriguez   \n",
       "3       2790     1000         wknight   \n",
       "4       2789      999      martinadam   \n",
       "\n",
       "                                                text  \n",
       "0  Republican staff bit eat material measure plan...  \n",
       "1  Or western offer wonder ask. More hear phone f...  \n",
       "2  Authority go who television entire hair guy po...  \n",
       "3   Change lose answer close pressure. Spend so now.  \n",
       "4  Later hospital turn easy community. Fact same ...  "
      ]
     },
     "execution_count": 20,
     "metadata": {},
     "output_type": "execute_result"
    }
   ],
   "source": [
    "query =\"\"\"SELECT * \n",
    "                    FROM reviews \n",
    "                    ORDER BY review_id desc\"\"\"\n",
    "df_reviews=execute(query)\n",
    "df_reviews.head()"
   ]
  },
  {
   "cell_type": "code",
   "execution_count": 21,
   "id": "309e43d1",
   "metadata": {},
   "outputs": [
    {
     "data": {
      "text/html": [
       "<div>\n",
       "<style scoped>\n",
       "    .dataframe tbody tr th:only-of-type {\n",
       "        vertical-align: middle;\n",
       "    }\n",
       "\n",
       "    .dataframe tbody tr th {\n",
       "        vertical-align: top;\n",
       "    }\n",
       "\n",
       "    .dataframe thead th {\n",
       "        text-align: right;\n",
       "    }\n",
       "</style>\n",
       "<table border=\"1\" class=\"dataframe\">\n",
       "  <thead>\n",
       "    <tr style=\"text-align: right;\">\n",
       "      <th></th>\n",
       "      <th>rating_id</th>\n",
       "      <th>book_id</th>\n",
       "      <th>username</th>\n",
       "      <th>rating</th>\n",
       "    </tr>\n",
       "  </thead>\n",
       "  <tbody>\n",
       "    <tr>\n",
       "      <th>0</th>\n",
       "      <td>6456</td>\n",
       "      <td>1000</td>\n",
       "      <td>fharris</td>\n",
       "      <td>5</td>\n",
       "    </tr>\n",
       "    <tr>\n",
       "      <th>1</th>\n",
       "      <td>6455</td>\n",
       "      <td>1000</td>\n",
       "      <td>zross</td>\n",
       "      <td>2</td>\n",
       "    </tr>\n",
       "    <tr>\n",
       "      <th>2</th>\n",
       "      <td>6454</td>\n",
       "      <td>1000</td>\n",
       "      <td>jarvispaul</td>\n",
       "      <td>5</td>\n",
       "    </tr>\n",
       "    <tr>\n",
       "      <th>3</th>\n",
       "      <td>6453</td>\n",
       "      <td>1000</td>\n",
       "      <td>wendy18</td>\n",
       "      <td>4</td>\n",
       "    </tr>\n",
       "    <tr>\n",
       "      <th>4</th>\n",
       "      <td>6452</td>\n",
       "      <td>1000</td>\n",
       "      <td>carolrodriguez</td>\n",
       "      <td>4</td>\n",
       "    </tr>\n",
       "  </tbody>\n",
       "</table>\n",
       "</div>"
      ],
      "text/plain": [
       "   rating_id  book_id        username  rating\n",
       "0       6456     1000         fharris       5\n",
       "1       6455     1000           zross       2\n",
       "2       6454     1000      jarvispaul       5\n",
       "3       6453     1000         wendy18       4\n",
       "4       6452     1000  carolrodriguez       4"
      ]
     },
     "execution_count": 21,
     "metadata": {},
     "output_type": "execute_result"
    }
   ],
   "source": [
    "query =\"\"\"SELECT * \n",
    "                    FROM ratings \n",
    "                    ORDER BY rating_id desc\"\"\"\n",
    "df_ratings=execute(query)\n",
    "df_ratings.head()"
   ]
  },
  {
   "cell_type": "code",
   "execution_count": 22,
   "id": "f469b7eb",
   "metadata": {},
   "outputs": [
    {
     "name": "stdout",
     "output_type": "stream",
     "text": [
      "   pub_count\n",
      "0        819\n"
     ]
    }
   ],
   "source": [
    "# to find the number of books released after January 1, 2000\n",
    "query1 = \"SELECT count(*) as pub_count FROM books WHERE publication_date > '2000-01-01';\"\n",
    "result1 = execute(query1)\n",
    "print(result1)"
   ]
  },
  {
   "cell_type": "markdown",
   "id": "7d90e038",
   "metadata": {},
   "source": [
    "A total of 819 books where published after January 1, 2000"
   ]
  },
  {
   "cell_type": "code",
   "execution_count": 23,
   "id": "076aa401",
   "metadata": {},
   "outputs": [
    {
     "name": "stdout",
     "output_type": "stream",
     "text": [
      "     book_id  review_count  avg_rating\n",
      "0          1             2    3.666667\n",
      "1          2             1    2.500000\n",
      "2          3             3    4.666667\n",
      "3          4             2    4.500000\n",
      "4          5             4    4.000000\n",
      "..       ...           ...         ...\n",
      "989      996             3    3.666667\n",
      "990      997             3    3.400000\n",
      "991      998             4    3.200000\n",
      "992      999             2    4.500000\n",
      "993     1000             4    3.833333\n",
      "\n",
      "[994 rows x 3 columns]\n"
     ]
    }
   ],
   "source": [
    "# to find the number of user reviews and the average rating for each book.\n",
    "query2 = \"SELECT reviews.book_id, count(distinct(review_id)) as review_count, avg(rating) as avg_rating FROM reviews JOIN ratings ON ratings.book_id = reviews.book_id GROUP BY 1\"\n",
    "result2 = execute(query2)\n",
    "print(result2)"
   ]
  },
  {
   "cell_type": "markdown",
   "id": "d26bc0dd",
   "metadata": {},
   "source": [
    "* There are 994 books with each having its own unique identification under 'book_id'. \n",
    "* 'review_count' represents the amount of times each book has been reviewed (from counting there unique review id)\n",
    "* 'avg_rating' is the summing of all the ratings recieved by each book divided by the number of times it was rated."
   ]
  },
  {
   "cell_type": "code",
   "execution_count": 24,
   "id": "b1c2a372",
   "metadata": {},
   "outputs": [
    {
     "name": "stdout",
     "output_type": "stream",
     "text": [
      "   publisher_id      publisher  num_count\n",
      "0           212  Penguin Books         42\n"
     ]
    }
   ],
   "source": [
    "# to Identify the publisher that has released the greatest number of books with more than 50 pages \n",
    "query3 = \"SELECT publishers.publisher_id, publishers.publisher, count(books.publisher_id) as num_count FROM publishers JOIN books ON books.publisher_id = publishers.publisher_id WHERE num_pages > 50 GROUP BY 1,2 ORDER BY 3 DESC LIMIT 1\"\n",
    "result3 = execute(query3)\n",
    "print(result3)"
   ]
  },
  {
   "cell_type": "markdown",
   "id": "21682d07",
   "metadata": {},
   "source": [
    "Every publisher has its unique id(publisher_id), penguin Books with id 212 is the publisher that has released the greatest number of books (42 books) with more that 50 pages."
   ]
  },
  {
   "cell_type": "code",
   "execution_count": 25,
   "id": "548c05b4",
   "metadata": {},
   "outputs": [
    {
     "name": "stdout",
     "output_type": "stream",
     "text": [
      "                                               title  \\\n",
      "0  Harry Potter and the Prisoner of Azkaban (Harr...   \n",
      "\n",
      "                       author  author_id  avg_rating  \n",
      "0  J.K. Rowling/Mary GrandPré        236    4.414634  \n"
     ]
    }
   ],
   "source": [
    "# to identify the author with the highest average book rating (looking only at books with at least 50 ratings)\n",
    "query4= \"\"\"SELECT books.title, authors.author, books.author_id, avg(ratings.rating) as avg_rating FROM authors JOIN books ON books.author_id = authors.author_id JOIN ratings ON ratings.book_id = books.book_id GROUP BY 1,2,3 HAVING count(ratings.rating) >= 50 ORDER BY 4 DESC LIMIT 1\"\"\"\n",
    "result4 = execute(query4)\n",
    "print(result4)"
   ]
  },
  {
   "cell_type": "markdown",
   "id": "277947fe",
   "metadata": {},
   "source": [
    "J.K. Rowling/Mary GrandPré, with author id '236', recieved the highest average rating (avg_rating), having a total rating of 50 and above."
   ]
  },
  {
   "cell_type": "code",
   "execution_count": 27,
   "id": "26410796",
   "metadata": {},
   "outputs": [
    {
     "name": "stdout",
     "output_type": "stream",
     "text": [
      "   avg_review_count\n",
      "0         24.333333\n"
     ]
    }
   ],
   "source": [
    "### Find the average number of text reviews among users who rated more than 50 books.\n",
    "query5 = \"SELECT AVG(review_count) AS avg_review_count FROM (SELECT username, COUNT(text) review_count FROM reviews GROUP BY username) AS t1 WHERE username IN (SELECT username FROM ratings GROUP BY username HAVING COUNT(rating_id) > 50)\"\n",
    "result5 = execute(query5)\n",
    "print(result5)"
   ]
  },
  {
   "cell_type": "markdown",
   "id": "1dbf21ff",
   "metadata": {},
   "source": [
    "156 users have rated more than 50 books and their average number of text reviews is shown in the column \"avg_reviews\"."
   ]
  },
  {
   "cell_type": "code",
   "execution_count": null,
   "id": "34b79430",
   "metadata": {},
   "outputs": [],
   "source": []
  },
  {
   "cell_type": "code",
   "execution_count": null,
   "id": "fc6a7766",
   "metadata": {},
   "outputs": [],
   "source": []
  }
 ],
 "metadata": {
  "kernelspec": {
   "display_name": "Python 3",
   "language": "python",
   "name": "python3"
  },
  "language_info": {
   "codemirror_mode": {
    "name": "ipython",
    "version": 3
   },
   "file_extension": ".py",
   "mimetype": "text/x-python",
   "name": "python",
   "nbconvert_exporter": "python",
   "pygments_lexer": "ipython3",
   "version": "3.8.8"
  }
 },
 "nbformat": 4,
 "nbformat_minor": 5
}
